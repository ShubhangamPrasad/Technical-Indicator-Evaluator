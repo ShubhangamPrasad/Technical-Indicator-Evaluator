{
 "cells": [
  {
   "cell_type": "code",
   "execution_count": 3,
   "id": "b92c2b05",
   "metadata": {},
   "outputs": [
    {
     "name": "stderr",
     "output_type": "stream",
     "text": [
      "/Users/rajeshkumar/opt/anaconda3/lib/python3.8/site-packages/scipy/__init__.py:138: UserWarning: A NumPy version >=1.16.5 and <1.23.0 is required for this version of SciPy (detected version 1.24.2)\n",
      "  warnings.warn(f\"A NumPy version >={np_minversion} and <{np_maxversion} is required for this version of \"\n"
     ]
    }
   ],
   "source": [
    "import pandas as pd\n",
    "import numpy as np\n",
    "import seaborn as sb\n",
    "import matplotlib.pyplot as plt\n",
    "import requests\n",
    "from math import floor"
   ]
  },
  {
   "cell_type": "code",
   "execution_count": 4,
   "id": "12f84bac",
   "metadata": {},
   "outputs": [
    {
     "data": {
      "text/html": [
       "<div>\n",
       "<style scoped>\n",
       "    .dataframe tbody tr th:only-of-type {\n",
       "        vertical-align: middle;\n",
       "    }\n",
       "\n",
       "    .dataframe tbody tr th {\n",
       "        vertical-align: top;\n",
       "    }\n",
       "\n",
       "    .dataframe thead th {\n",
       "        text-align: right;\n",
       "    }\n",
       "</style>\n",
       "<table border=\"1\" class=\"dataframe\">\n",
       "  <thead>\n",
       "    <tr style=\"text-align: right;\">\n",
       "      <th></th>\n",
       "      <th>Date</th>\n",
       "      <th>Open</th>\n",
       "      <th>High</th>\n",
       "      <th>Low</th>\n",
       "      <th>Close</th>\n",
       "      <th>Adj Close</th>\n",
       "      <th>Volume</th>\n",
       "    </tr>\n",
       "  </thead>\n",
       "  <tbody>\n",
       "    <tr>\n",
       "      <th>0</th>\n",
       "      <td>1980-12-12</td>\n",
       "      <td>0.128348</td>\n",
       "      <td>0.128906</td>\n",
       "      <td>0.128348</td>\n",
       "      <td>0.128348</td>\n",
       "      <td>0.100323</td>\n",
       "      <td>469033600</td>\n",
       "    </tr>\n",
       "    <tr>\n",
       "      <th>1</th>\n",
       "      <td>1980-12-15</td>\n",
       "      <td>0.122210</td>\n",
       "      <td>0.122210</td>\n",
       "      <td>0.121652</td>\n",
       "      <td>0.121652</td>\n",
       "      <td>0.095089</td>\n",
       "      <td>175884800</td>\n",
       "    </tr>\n",
       "    <tr>\n",
       "      <th>2</th>\n",
       "      <td>1980-12-16</td>\n",
       "      <td>0.113281</td>\n",
       "      <td>0.113281</td>\n",
       "      <td>0.112723</td>\n",
       "      <td>0.112723</td>\n",
       "      <td>0.088110</td>\n",
       "      <td>105728000</td>\n",
       "    </tr>\n",
       "    <tr>\n",
       "      <th>3</th>\n",
       "      <td>1980-12-17</td>\n",
       "      <td>0.115513</td>\n",
       "      <td>0.116071</td>\n",
       "      <td>0.115513</td>\n",
       "      <td>0.115513</td>\n",
       "      <td>0.090291</td>\n",
       "      <td>86441600</td>\n",
       "    </tr>\n",
       "    <tr>\n",
       "      <th>4</th>\n",
       "      <td>1980-12-18</td>\n",
       "      <td>0.118862</td>\n",
       "      <td>0.119420</td>\n",
       "      <td>0.118862</td>\n",
       "      <td>0.118862</td>\n",
       "      <td>0.092908</td>\n",
       "      <td>73449600</td>\n",
       "    </tr>\n",
       "  </tbody>\n",
       "</table>\n",
       "</div>"
      ],
      "text/plain": [
       "         Date      Open      High       Low     Close  Adj Close     Volume\n",
       "0  1980-12-12  0.128348  0.128906  0.128348  0.128348   0.100323  469033600\n",
       "1  1980-12-15  0.122210  0.122210  0.121652  0.121652   0.095089  175884800\n",
       "2  1980-12-16  0.113281  0.113281  0.112723  0.112723   0.088110  105728000\n",
       "3  1980-12-17  0.115513  0.116071  0.115513  0.115513   0.090291   86441600\n",
       "4  1980-12-18  0.118862  0.119420  0.118862  0.118862   0.092908   73449600"
      ]
     },
     "execution_count": 4,
     "metadata": {},
     "output_type": "execute_result"
    }
   ],
   "source": [
    "df = pd.read_csv('AAPL.csv')\n",
    "df.head()"
   ]
  },
  {
   "cell_type": "code",
   "execution_count": 5,
   "id": "81c45113",
   "metadata": {},
   "outputs": [
    {
     "data": {
      "text/plain": [
       "(10409, 7)"
      ]
     },
     "execution_count": 5,
     "metadata": {},
     "output_type": "execute_result"
    }
   ],
   "source": [
    "df.shape"
   ]
  },
  {
   "cell_type": "code",
   "execution_count": 6,
   "id": "5fdd4c9e",
   "metadata": {},
   "outputs": [
    {
     "name": "stdout",
     "output_type": "stream",
     "text": [
      "<class 'pandas.core.frame.DataFrame'>\n",
      "RangeIndex: 10409 entries, 0 to 10408\n",
      "Data columns (total 7 columns):\n",
      " #   Column     Non-Null Count  Dtype  \n",
      "---  ------     --------------  -----  \n",
      " 0   Date       10409 non-null  object \n",
      " 1   Open       10409 non-null  float64\n",
      " 2   High       10409 non-null  float64\n",
      " 3   Low        10409 non-null  float64\n",
      " 4   Close      10409 non-null  float64\n",
      " 5   Adj Close  10409 non-null  float64\n",
      " 6   Volume     10409 non-null  int64  \n",
      "dtypes: float64(5), int64(1), object(1)\n",
      "memory usage: 569.4+ KB\n"
     ]
    }
   ],
   "source": [
    "df.info()"
   ]
  },
  {
   "cell_type": "code",
   "execution_count": 7,
   "id": "e95367f8",
   "metadata": {},
   "outputs": [
    {
     "data": {
      "text/html": [
       "<div>\n",
       "<style scoped>\n",
       "    .dataframe tbody tr th:only-of-type {\n",
       "        vertical-align: middle;\n",
       "    }\n",
       "\n",
       "    .dataframe tbody tr th {\n",
       "        vertical-align: top;\n",
       "    }\n",
       "\n",
       "    .dataframe thead th {\n",
       "        text-align: right;\n",
       "    }\n",
       "</style>\n",
       "<table border=\"1\" class=\"dataframe\">\n",
       "  <thead>\n",
       "    <tr style=\"text-align: right;\">\n",
       "      <th></th>\n",
       "      <th>count</th>\n",
       "      <th>mean</th>\n",
       "      <th>std</th>\n",
       "      <th>min</th>\n",
       "      <th>25%</th>\n",
       "      <th>50%</th>\n",
       "      <th>75%</th>\n",
       "      <th>max</th>\n",
       "    </tr>\n",
       "  </thead>\n",
       "  <tbody>\n",
       "    <tr>\n",
       "      <th>Open</th>\n",
       "      <td>10409.000</td>\n",
       "      <td>13.960</td>\n",
       "      <td>30.169</td>\n",
       "      <td>0.050</td>\n",
       "      <td>0.282</td>\n",
       "      <td>0.469</td>\n",
       "      <td>14.218</td>\n",
       "      <td>182.630</td>\n",
       "    </tr>\n",
       "    <tr>\n",
       "      <th>High</th>\n",
       "      <td>10409.000</td>\n",
       "      <td>14.112</td>\n",
       "      <td>30.515</td>\n",
       "      <td>0.050</td>\n",
       "      <td>0.288</td>\n",
       "      <td>0.478</td>\n",
       "      <td>14.364</td>\n",
       "      <td>182.940</td>\n",
       "    </tr>\n",
       "    <tr>\n",
       "      <th>Low</th>\n",
       "      <td>10409.000</td>\n",
       "      <td>13.809</td>\n",
       "      <td>29.835</td>\n",
       "      <td>0.049</td>\n",
       "      <td>0.275</td>\n",
       "      <td>0.460</td>\n",
       "      <td>14.044</td>\n",
       "      <td>179.120</td>\n",
       "    </tr>\n",
       "    <tr>\n",
       "      <th>Close</th>\n",
       "      <td>10409.000</td>\n",
       "      <td>13.967</td>\n",
       "      <td>30.192</td>\n",
       "      <td>0.049</td>\n",
       "      <td>0.281</td>\n",
       "      <td>0.469</td>\n",
       "      <td>14.206</td>\n",
       "      <td>182.010</td>\n",
       "    </tr>\n",
       "    <tr>\n",
       "      <th>Adj Close</th>\n",
       "      <td>10409.000</td>\n",
       "      <td>13.350</td>\n",
       "      <td>29.911</td>\n",
       "      <td>0.038</td>\n",
       "      <td>0.235</td>\n",
       "      <td>0.387</td>\n",
       "      <td>12.188</td>\n",
       "      <td>181.778</td>\n",
       "    </tr>\n",
       "    <tr>\n",
       "      <th>Volume</th>\n",
       "      <td>10409.000</td>\n",
       "      <td>332177847.171</td>\n",
       "      <td>339334418.573</td>\n",
       "      <td>0.000</td>\n",
       "      <td>124760400.000</td>\n",
       "      <td>219968000.000</td>\n",
       "      <td>412610800.000</td>\n",
       "      <td>7421640800.000</td>\n",
       "    </tr>\n",
       "  </tbody>\n",
       "</table>\n",
       "</div>"
      ],
      "text/plain": [
       "               count           mean            std    min            25%   \n",
       "Open       10409.000         13.960         30.169  0.050          0.282  \\\n",
       "High       10409.000         14.112         30.515  0.050          0.288   \n",
       "Low        10409.000         13.809         29.835  0.049          0.275   \n",
       "Close      10409.000         13.967         30.192  0.049          0.281   \n",
       "Adj Close  10409.000         13.350         29.911  0.038          0.235   \n",
       "Volume     10409.000  332177847.171  339334418.573  0.000  124760400.000   \n",
       "\n",
       "                     50%            75%             max  \n",
       "Open               0.469         14.218         182.630  \n",
       "High               0.478         14.364         182.940  \n",
       "Low                0.460         14.044         179.120  \n",
       "Close              0.469         14.206         182.010  \n",
       "Adj Close          0.387         12.188         181.778  \n",
       "Volume     219968000.000  412610800.000  7421640800.000  "
      ]
     },
     "execution_count": 7,
     "metadata": {},
     "output_type": "execute_result"
    }
   ],
   "source": [
    "df.describe().T.apply(lambda x: x.apply(\"{0:.3f}\".format))"
   ]
  },
  {
   "cell_type": "code",
   "execution_count": 8,
   "id": "59715439",
   "metadata": {},
   "outputs": [
    {
     "name": "stdout",
     "output_type": "stream",
     "text": [
      "0\n"
     ]
    }
   ],
   "source": [
    "print(df.duplicated().sum())"
   ]
  },
  {
   "cell_type": "code",
   "execution_count": 9,
   "id": "d92ccdda",
   "metadata": {},
   "outputs": [
    {
     "name": "stdout",
     "output_type": "stream",
     "text": [
      "Date         0\n",
      "Open         0\n",
      "High         0\n",
      "Low          0\n",
      "Close        0\n",
      "Adj Close    0\n",
      "Volume       0\n",
      "dtype: int64\n"
     ]
    }
   ],
   "source": [
    "print(df.isnull().sum())"
   ]
  },
  {
   "cell_type": "code",
   "execution_count": 10,
   "id": "f5f809d0",
   "metadata": {},
   "outputs": [],
   "source": [
    "df[\"Date\"] = pd.to_datetime(df[\"Date\"])"
   ]
  },
  {
   "cell_type": "code",
   "execution_count": 11,
   "id": "9aefae5e",
   "metadata": {},
   "outputs": [
    {
     "data": {
      "text/plain": [
       "(10409, 7)"
      ]
     },
     "execution_count": 11,
     "metadata": {},
     "output_type": "execute_result"
    }
   ],
   "source": [
    "df.shape"
   ]
  },
  {
   "cell_type": "code",
   "execution_count": 12,
   "id": "723d0e00",
   "metadata": {},
   "outputs": [],
   "source": [
    "window_size = 50"
   ]
  },
  {
   "cell_type": "code",
   "execution_count": 13,
   "id": "eca8c249",
   "metadata": {},
   "outputs": [],
   "source": [
    "df[\"MA\"] = df[\"Close\"].rolling(window_size).mean()"
   ]
  },
  {
   "cell_type": "code",
   "execution_count": 14,
   "id": "355093e4",
   "metadata": {},
   "outputs": [
    {
     "name": "stdout",
     "output_type": "stream",
     "text": [
      "0             NaN\n",
      "1             NaN\n",
      "2             NaN\n",
      "3             NaN\n",
      "4             NaN\n",
      "           ...   \n",
      "10404    166.5874\n",
      "10405    166.4550\n",
      "10406    166.3880\n",
      "10407    166.3484\n",
      "10408    166.3282\n",
      "Name: MA, Length: 10409, dtype: float64\n"
     ]
    }
   ],
   "source": [
    "print(df[\"MA\"])"
   ]
  },
  {
   "cell_type": "code",
   "execution_count": 17,
   "id": "c441d523",
   "metadata": {},
   "outputs": [
    {
     "data": {
      "image/png": "[encoded data removed]",
      "text/plain": [
       "<Figure size 432x288 with 1 Axes>"
      ]
     },
     "metadata": {
      "needs_background": "light"
     },
     "output_type": "display_data"
    },
    {
     "data": {
      "text/html": [
       "<div>\n",
       "<style scoped>\n",
       "    .dataframe tbody tr th:only-of-type {\n",
       "        vertical-align: middle;\n",
       "    }\n",
       "\n",
       "    .dataframe tbody tr th {\n",
       "        vertical-align: top;\n",
       "    }\n",
       "\n",
       "    .dataframe thead th {\n",
       "        text-align: right;\n",
       "    }\n",
       "</style>\n",
       "<table border=\"1\" class=\"dataframe\">\n",
       "  <thead>\n",
       "    <tr style=\"text-align: right;\">\n",
       "      <th></th>\n",
       "      <th>Date</th>\n",
       "      <th>Open</th>\n",
       "      <th>High</th>\n",
       "      <th>Low</th>\n",
       "      <th>Close</th>\n",
       "      <th>Adj Close</th>\n",
       "      <th>Volume</th>\n",
       "      <th>MA</th>\n",
       "    </tr>\n",
       "  </thead>\n",
       "  <tbody>\n",
       "    <tr>\n",
       "      <th>45</th>\n",
       "      <td>1981-02-18</td>\n",
       "      <td>0.121652</td>\n",
       "      <td>0.122768</td>\n",
       "      <td>0.121652</td>\n",
       "      <td>0.121652</td>\n",
       "      <td>0.095089</td>\n",
       "      <td>19241600</td>\n",
       "      <td>NaN</td>\n",
       "    </tr>\n",
       "    <tr>\n",
       "      <th>46</th>\n",
       "      <td>1981-02-19</td>\n",
       "      <td>0.114955</td>\n",
       "      <td>0.114955</td>\n",
       "      <td>0.114397</td>\n",
       "      <td>0.114397</td>\n",
       "      <td>0.089418</td>\n",
       "      <td>22310400</td>\n",
       "      <td>NaN</td>\n",
       "    </tr>\n",
       "    <tr>\n",
       "      <th>47</th>\n",
       "      <td>1981-02-20</td>\n",
       "      <td>0.108817</td>\n",
       "      <td>0.108817</td>\n",
       "      <td>0.108259</td>\n",
       "      <td>0.108259</td>\n",
       "      <td>0.084621</td>\n",
       "      <td>24371200</td>\n",
       "      <td>NaN</td>\n",
       "    </tr>\n",
       "    <tr>\n",
       "      <th>48</th>\n",
       "      <td>1981-02-23</td>\n",
       "      <td>0.109933</td>\n",
       "      <td>0.110491</td>\n",
       "      <td>0.109933</td>\n",
       "      <td>0.109933</td>\n",
       "      <td>0.085929</td>\n",
       "      <td>14112000</td>\n",
       "      <td>NaN</td>\n",
       "    </tr>\n",
       "    <tr>\n",
       "      <th>49</th>\n",
       "      <td>1981-02-24</td>\n",
       "      <td>0.107143</td>\n",
       "      <td>0.107143</td>\n",
       "      <td>0.106027</td>\n",
       "      <td>0.106027</td>\n",
       "      <td>0.082876</td>\n",
       "      <td>16979200</td>\n",
       "      <td>0.132578</td>\n",
       "    </tr>\n",
       "  </tbody>\n",
       "</table>\n",
       "</div>"
      ],
      "text/plain": [
       "         Date      Open      High       Low     Close  Adj Close    Volume   \n",
       "45 1981-02-18  0.121652  0.122768  0.121652  0.121652   0.095089  19241600  \\\n",
       "46 1981-02-19  0.114955  0.114955  0.114397  0.114397   0.089418  22310400   \n",
       "47 1981-02-20  0.108817  0.108817  0.108259  0.108259   0.084621  24371200   \n",
       "48 1981-02-23  0.109933  0.110491  0.109933  0.109933   0.085929  14112000   \n",
       "49 1981-02-24  0.107143  0.107143  0.106027  0.106027   0.082876  16979200   \n",
       "\n",
       "          MA  \n",
       "45       NaN  \n",
       "46       NaN  \n",
       "47       NaN  \n",
       "48       NaN  \n",
       "49  0.132578  "
      ]
     },
     "execution_count": 17,
     "metadata": {},
     "output_type": "execute_result"
    }
   ],
   "source": [
    "plt.plot(df[\"Close\"], label=\"Apple Close Price\")\n",
    "plt.plot(df[\"MA\"], label=\"Moving Average\")\n",
    "plt.legend()\n",
    "plt.show()"
   ]
  },
  {
   "cell_type": "code",
   "execution_count": 19,
   "id": "30f40597",
   "metadata": {},
   "outputs": [
    {
     "data": {
      "text/html": [
       "<div>\n",
       "<style scoped>\n",
       "    .dataframe tbody tr th:only-of-type {\n",
       "        vertical-align: middle;\n",
       "    }\n",
       "\n",
       "    .dataframe tbody tr th {\n",
       "        vertical-align: top;\n",
       "    }\n",
       "\n",
       "    .dataframe thead th {\n",
       "        text-align: right;\n",
       "    }\n",
       "</style>\n",
       "<table border=\"1\" class=\"dataframe\">\n",
       "  <thead>\n",
       "    <tr style=\"text-align: right;\">\n",
       "      <th></th>\n",
       "      <th>Date</th>\n",
       "      <th>Open</th>\n",
       "      <th>High</th>\n",
       "      <th>Low</th>\n",
       "      <th>Close</th>\n",
       "      <th>Adj Close</th>\n",
       "      <th>Volume</th>\n",
       "      <th>MA</th>\n",
       "    </tr>\n",
       "  </thead>\n",
       "  <tbody>\n",
       "    <tr>\n",
       "      <th>49</th>\n",
       "      <td>1981-02-24</td>\n",
       "      <td>0.107143</td>\n",
       "      <td>0.107143</td>\n",
       "      <td>0.106027</td>\n",
       "      <td>0.106027</td>\n",
       "      <td>0.082876</td>\n",
       "      <td>16979200</td>\n",
       "      <td>0.132578</td>\n",
       "    </tr>\n",
       "    <tr>\n",
       "      <th>50</th>\n",
       "      <td>1981-02-25</td>\n",
       "      <td>0.112723</td>\n",
       "      <td>0.113281</td>\n",
       "      <td>0.112723</td>\n",
       "      <td>0.112723</td>\n",
       "      <td>0.088110</td>\n",
       "      <td>19488000</td>\n",
       "      <td>0.132266</td>\n",
       "    </tr>\n",
       "    <tr>\n",
       "      <th>51</th>\n",
       "      <td>1981-02-26</td>\n",
       "      <td>0.114397</td>\n",
       "      <td>0.114955</td>\n",
       "      <td>0.114397</td>\n",
       "      <td>0.114397</td>\n",
       "      <td>0.089418</td>\n",
       "      <td>10841600</td>\n",
       "      <td>0.132121</td>\n",
       "    </tr>\n",
       "    <tr>\n",
       "      <th>52</th>\n",
       "      <td>1981-02-27</td>\n",
       "      <td>0.118304</td>\n",
       "      <td>0.119420</td>\n",
       "      <td>0.118304</td>\n",
       "      <td>0.118304</td>\n",
       "      <td>0.092472</td>\n",
       "      <td>14761600</td>\n",
       "      <td>0.132232</td>\n",
       "    </tr>\n",
       "    <tr>\n",
       "      <th>53</th>\n",
       "      <td>1981-03-02</td>\n",
       "      <td>0.118862</td>\n",
       "      <td>0.119420</td>\n",
       "      <td>0.118862</td>\n",
       "      <td>0.118862</td>\n",
       "      <td>0.092908</td>\n",
       "      <td>11760000</td>\n",
       "      <td>0.132299</td>\n",
       "    </tr>\n",
       "  </tbody>\n",
       "</table>\n",
       "</div>"
      ],
      "text/plain": [
       "         Date      Open      High       Low     Close  Adj Close    Volume   \n",
       "49 1981-02-24  0.107143  0.107143  0.106027  0.106027   0.082876  16979200  \\\n",
       "50 1981-02-25  0.112723  0.113281  0.112723  0.112723   0.088110  19488000   \n",
       "51 1981-02-26  0.114397  0.114955  0.114397  0.114397   0.089418  10841600   \n",
       "52 1981-02-27  0.118304  0.119420  0.118304  0.118304   0.092472  14761600   \n",
       "53 1981-03-02  0.118862  0.119420  0.118862  0.118862   0.092908  11760000   \n",
       "\n",
       "          MA  \n",
       "49  0.132578  \n",
       "50  0.132266  \n",
       "51  0.132121  \n",
       "52  0.132232  \n",
       "53  0.132299  "
      ]
     },
     "execution_count": 19,
     "metadata": {},
     "output_type": "execute_result"
    }
   ],
   "source": [
    "df2 = df.iloc[49:].copy()\n",
    "df2.head()"
   ]
  },
  {
   "cell_type": "code",
   "execution_count": null,
   "id": "a2ba5531",
   "metadata": {},
   "outputs": [],
   "source": []
  }
 ],
 "metadata": {
  "kernelspec": {
   "display_name": "Python 3 (ipykernel)",
   "language": "python",
   "name": "python3"
  },
  "language_info": {
   "codemirror_mode": {
    "name": "ipython",
    "version": 3
   },
   "file_extension": ".py",
   "mimetype": "text/x-python",
   "name": "python",
   "nbconvert_exporter": "python",
   "pygments_lexer": "ipython3",
   "version": "3.8.8"
  }
 },
 "nbformat": 4,
 "nbformat_minor": 5
}
