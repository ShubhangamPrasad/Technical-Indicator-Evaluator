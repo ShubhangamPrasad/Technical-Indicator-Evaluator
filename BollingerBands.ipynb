{
 "cells": [
  {
   "attachments": {},
   "cell_type": "markdown",
   "metadata": {},
   "source": [
    "# Bollinger Bands Evaluator\n",
    "\n",
    "This portion of the code evaluates the AAPL dataset from Kaggle telling us the way to evaluate Bollinger bands based on the requirements of the various ML model input datas. The model would need the following inputs from Bollinger Bands:\n",
    "1. upper bound of 20d bollinger bands\n",
    "2. lower bound of 20d bollinger bands"
   ]
  },
  {
   "cell_type": "markdown",
   "metadata": {},
   "source": []
  },
  {
   "attachments": {},
   "cell_type": "markdown",
   "metadata": {},
   "source": [
    "### Import necessary libraries"
   ]
  },
  {
   "cell_type": "code",
   "execution_count": 28,
   "metadata": {},
   "outputs": [],
   "source": [
    "import pandas as pd\n",
    "import matplotlib.pyplot as plt"
   ]
  },
  {
   "attachments": {},
   "cell_type": "markdown",
   "metadata": {},
   "source": [
    "### Showcase the information as Bollinger Bands within a chart"
   ]
  },
  {
   "cell_type": "code",
   "execution_count": 29,
   "metadata": {},
   "outputs": [
    {
     "data": {
      "image/png": "[encoded data removed]",
      "text/plain": [
       "<Figure size 864x432 with 1 Axes>"
      ]
     },
     "metadata": {
      "needs_background": "light"
     },
     "output_type": "display_data"
    }
   ],
   "source": [
    "df = pd.read_csv('AAPL_clean.csv')\n",
    "\n",
    "# Calculate the 20-day SMA and standard deviation\n",
    "df['SMA'] = df['Close'].rolling(window=20).mean()\n",
    "df['STD'] = df['Close'].rolling(window=20).std()\n",
    "\n",
    "# Calculate the upper and lower Bollinger Bands\n",
    "df['UpperBand'] = df['SMA'] + (df['STD'] * 2)\n",
    "df['LowerBand'] = df['SMA'] - (df['STD'] * 2)\n",
    "\n",
    "# Plot the Bollinger Bands\n",
    "plt.figure(figsize=(12,6))\n",
    "plt.plot(df['Close'], label='Closing Price')\n",
    "plt.plot(df['SMA'], label='SMA')\n",
    "plt.plot(df['UpperBand'], label='Upper Band')\n",
    "plt.plot(df['LowerBand'], label='Lower Band')\n",
    "plt.legend()\n",
    "plt.show()"
   ]
  },
  {
   "cell_type": "code",
   "execution_count": 30,
   "metadata": {},
   "outputs": [
    {
     "name": "stdout",
     "output_type": "stream",
     "text": [
      "Stored 'Bollinger_df' (DataFrame)\n"
     ]
    }
   ],
   "source": [
    "df2 = pd.DataFrame()\n",
    "df2 = df.iloc[19:].copy()\n",
    "df2['Max_Min_diff'] = df2['High']-df2['Low']\n",
    "df2['Open_Close_diff'] = df2['Open']-df2['Close']\n",
    "df2 = df2[['Date', 'UpperBand', 'LowerBand', 'Max_Min_diff','Open_Close_diff', 'SMA']].copy()\n",
    "df2 = df2.rename(columns={'UpperBand': 'BB_upperband'})\n",
    "df2 = df2.rename(columns={'LowerBand': 'BB_lowerband'})\n",
    "df2.head()\n",
    "Bollinger_df = df2.copy()\n",
    "\n",
    "%store Bollinger_df"
   ]
  },
  {
   "cell_type": "code",
   "execution_count": 31,
   "metadata": {},
   "outputs": [],
   "source": [
    "%store -r HnS_df"
   ]
  },
  {
   "cell_type": "code",
   "execution_count": 32,
   "metadata": {},
   "outputs": [],
   "source": [
    "HnS_new_df = HnS_df.loc[:, ['left_shoulder', 'right_shoulder', 'left_shoulder_diff', 'right_shoulder_diff', 'head_shoulders']]"
   ]
  },
  {
   "cell_type": "code",
   "execution_count": 33,
   "metadata": {},
   "outputs": [
    {
     "data": {
      "text/html": [
       "<div>\n",
       "<style scoped>\n",
       "    .dataframe tbody tr th:only-of-type {\n",
       "        vertical-align: middle;\n",
       "    }\n",
       "\n",
       "    .dataframe tbody tr th {\n",
       "        vertical-align: top;\n",
       "    }\n",
       "\n",
       "    .dataframe thead th {\n",
       "        text-align: right;\n",
       "    }\n",
       "</style>\n",
       "<table border=\"1\" class=\"dataframe\">\n",
       "  <thead>\n",
       "    <tr style=\"text-align: right;\">\n",
       "      <th></th>\n",
       "      <th>left_shoulder</th>\n",
       "      <th>right_shoulder</th>\n",
       "      <th>left_shoulder_diff</th>\n",
       "      <th>right_shoulder_diff</th>\n",
       "      <th>head_shoulders</th>\n",
       "    </tr>\n",
       "  </thead>\n",
       "  <tbody>\n",
       "    <tr>\n",
       "      <th>50</th>\n",
       "      <td>0.138951</td>\n",
       "      <td>0.120536</td>\n",
       "      <td>-0.131818</td>\n",
       "      <td>0.018181</td>\n",
       "      <td>1</td>\n",
       "    </tr>\n",
       "    <tr>\n",
       "      <th>51</th>\n",
       "      <td>0.133929</td>\n",
       "      <td>0.120536</td>\n",
       "      <td>-0.090911</td>\n",
       "      <td>0.018181</td>\n",
       "      <td>1</td>\n",
       "    </tr>\n",
       "    <tr>\n",
       "      <th>52</th>\n",
       "      <td>0.128906</td>\n",
       "      <td>0.120536</td>\n",
       "      <td>-0.049997</td>\n",
       "      <td>0.018181</td>\n",
       "      <td>1</td>\n",
       "    </tr>\n",
       "    <tr>\n",
       "      <th>53</th>\n",
       "      <td>0.128906</td>\n",
       "      <td>0.120536</td>\n",
       "      <td>-0.049997</td>\n",
       "      <td>0.018181</td>\n",
       "      <td>1</td>\n",
       "    </tr>\n",
       "    <tr>\n",
       "      <th>54</th>\n",
       "      <td>0.128906</td>\n",
       "      <td>0.120536</td>\n",
       "      <td>-0.049997</td>\n",
       "      <td>0.018181</td>\n",
       "      <td>1</td>\n",
       "    </tr>\n",
       "  </tbody>\n",
       "</table>\n",
       "</div>"
      ],
      "text/plain": [
       "    left_shoulder  right_shoulder  left_shoulder_diff  right_shoulder_diff   \n",
       "50       0.138951        0.120536           -0.131818             0.018181  \\\n",
       "51       0.133929        0.120536           -0.090911             0.018181   \n",
       "52       0.128906        0.120536           -0.049997             0.018181   \n",
       "53       0.128906        0.120536           -0.049997             0.018181   \n",
       "54       0.128906        0.120536           -0.049997             0.018181   \n",
       "\n",
       "    head_shoulders  \n",
       "50               1  \n",
       "51               1  \n",
       "52               1  \n",
       "53               1  \n",
       "54               1  "
      ]
     },
     "execution_count": 33,
     "metadata": {},
     "output_type": "execute_result"
    }
   ],
   "source": [
    "HnS_new_df.iloc[50:].head()"
   ]
  },
  {
   "cell_type": "code",
   "execution_count": 34,
   "metadata": {},
   "outputs": [],
   "source": [
    "combined_df = pd.concat([df2, HnS_new_df], axis=0)"
   ]
  },
  {
   "cell_type": "code",
   "execution_count": 35,
   "metadata": {},
   "outputs": [
    {
     "data": {
      "text/html": [
       "<div>\n",
       "<style scoped>\n",
       "    .dataframe tbody tr th:only-of-type {\n",
       "        vertical-align: middle;\n",
       "    }\n",
       "\n",
       "    .dataframe tbody tr th {\n",
       "        vertical-align: top;\n",
       "    }\n",
       "\n",
       "    .dataframe thead th {\n",
       "        text-align: right;\n",
       "    }\n",
       "</style>\n",
       "<table border=\"1\" class=\"dataframe\">\n",
       "  <thead>\n",
       "    <tr style=\"text-align: right;\">\n",
       "      <th></th>\n",
       "      <th>Date</th>\n",
       "      <th>BB_upperband</th>\n",
       "      <th>BB_lowerband</th>\n",
       "      <th>Max_Min_diff</th>\n",
       "      <th>Open_Close_diff</th>\n",
       "      <th>SMA</th>\n",
       "      <th>left_shoulder</th>\n",
       "      <th>right_shoulder</th>\n",
       "      <th>left_shoulder_diff</th>\n",
       "      <th>right_shoulder_diff</th>\n",
       "      <th>head_shoulders</th>\n",
       "    </tr>\n",
       "  </thead>\n",
       "  <tbody>\n",
       "    <tr>\n",
       "      <th>119</th>\n",
       "      <td>1981-06-04</td>\n",
       "      <td>0.154373</td>\n",
       "      <td>0.111699</td>\n",
       "      <td>0.000558</td>\n",
       "      <td>0.000000</td>\n",
       "      <td>0.133036</td>\n",
       "      <td>NaN</td>\n",
       "      <td>NaN</td>\n",
       "      <td>NaN</td>\n",
       "      <td>NaN</td>\n",
       "      <td>NaN</td>\n",
       "    </tr>\n",
       "    <tr>\n",
       "      <th>120</th>\n",
       "      <td>1981-06-05</td>\n",
       "      <td>0.155078</td>\n",
       "      <td>0.112724</td>\n",
       "      <td>0.000558</td>\n",
       "      <td>0.000558</td>\n",
       "      <td>0.133901</td>\n",
       "      <td>NaN</td>\n",
       "      <td>NaN</td>\n",
       "      <td>NaN</td>\n",
       "      <td>NaN</td>\n",
       "      <td>NaN</td>\n",
       "    </tr>\n",
       "    <tr>\n",
       "      <th>121</th>\n",
       "      <td>1981-06-08</td>\n",
       "      <td>0.155233</td>\n",
       "      <td>0.113685</td>\n",
       "      <td>0.000558</td>\n",
       "      <td>0.000558</td>\n",
       "      <td>0.134459</td>\n",
       "      <td>NaN</td>\n",
       "      <td>NaN</td>\n",
       "      <td>NaN</td>\n",
       "      <td>NaN</td>\n",
       "      <td>NaN</td>\n",
       "    </tr>\n",
       "    <tr>\n",
       "      <th>122</th>\n",
       "      <td>1981-06-09</td>\n",
       "      <td>0.155327</td>\n",
       "      <td>0.115264</td>\n",
       "      <td>0.000558</td>\n",
       "      <td>0.000000</td>\n",
       "      <td>0.135296</td>\n",
       "      <td>NaN</td>\n",
       "      <td>NaN</td>\n",
       "      <td>NaN</td>\n",
       "      <td>NaN</td>\n",
       "      <td>NaN</td>\n",
       "    </tr>\n",
       "    <tr>\n",
       "      <th>123</th>\n",
       "      <td>1981-06-10</td>\n",
       "      <td>0.155390</td>\n",
       "      <td>0.117043</td>\n",
       "      <td>0.001674</td>\n",
       "      <td>0.000000</td>\n",
       "      <td>0.136217</td>\n",
       "      <td>NaN</td>\n",
       "      <td>NaN</td>\n",
       "      <td>NaN</td>\n",
       "      <td>NaN</td>\n",
       "      <td>NaN</td>\n",
       "    </tr>\n",
       "  </tbody>\n",
       "</table>\n",
       "</div>"
      ],
      "text/plain": [
       "           Date  BB_upperband  BB_lowerband  Max_Min_diff  Open_Close_diff   \n",
       "119  1981-06-04      0.154373      0.111699      0.000558         0.000000  \\\n",
       "120  1981-06-05      0.155078      0.112724      0.000558         0.000558   \n",
       "121  1981-06-08      0.155233      0.113685      0.000558         0.000558   \n",
       "122  1981-06-09      0.155327      0.115264      0.000558         0.000000   \n",
       "123  1981-06-10      0.155390      0.117043      0.001674         0.000000   \n",
       "\n",
       "          SMA  left_shoulder  right_shoulder  left_shoulder_diff   \n",
       "119  0.133036            NaN             NaN                 NaN  \\\n",
       "120  0.133901            NaN             NaN                 NaN   \n",
       "121  0.134459            NaN             NaN                 NaN   \n",
       "122  0.135296            NaN             NaN                 NaN   \n",
       "123  0.136217            NaN             NaN                 NaN   \n",
       "\n",
       "     right_shoulder_diff  head_shoulders  \n",
       "119                  NaN             NaN  \n",
       "120                  NaN             NaN  \n",
       "121                  NaN             NaN  \n",
       "122                  NaN             NaN  \n",
       "123                  NaN             NaN  "
      ]
     },
     "execution_count": 35,
     "metadata": {},
     "output_type": "execute_result"
    }
   ],
   "source": [
    "combined_df.iloc[100:].head()"
   ]
  },
  {
   "cell_type": "code",
   "execution_count": null,
   "metadata": {},
   "outputs": [],
   "source": []
  }
 ],
 "metadata": {
  "kernelspec": {
   "display_name": "Python 3.10.1 64-bit",
   "language": "python",
   "name": "python3"
  },
  "language_info": {
   "codemirror_mode": {
    "name": "ipython",
    "version": 3
   },
   "file_extension": ".py",
   "mimetype": "text/x-python",
   "name": "python",
   "nbconvert_exporter": "python",
   "pygments_lexer": "ipython3",
   "version": "3.8.8"
  },
  "orig_nbformat": 4,
  "vscode": {
   "interpreter": {
    "hash": "aee8b7b246df8f9039afb4144a1f6fd8d2ca17a180786b69acc140d282b71a49"
   }
  }
 },
 "nbformat": 4,
 "nbformat_minor": 2
}
