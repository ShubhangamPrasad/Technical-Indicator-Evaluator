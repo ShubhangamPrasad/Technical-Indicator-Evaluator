{
 "cells": [
  {
   "attachments": {},
   "cell_type": "markdown",
   "metadata": {},
   "source": [
    "# Bollinger Bands Evaluator\n",
    "\n",
    "This portion of the code evaluates the AAPL dataset from Kaggle telling us the way to evaluate Bollinger bands based on the requirements of the various ML model input datas. The model would need the following inputs from Bollinger Bands:\n",
    "1. upper bound of 20d bollinger bands\n",
    "2. lower bound of 20d bollinger bands"
   ]
  },
  {
   "cell_type": "markdown",
   "metadata": {},
   "source": []
  },
  {
   "attachments": {},
   "cell_type": "markdown",
   "metadata": {},
   "source": [
    "### Import necessary libraries"
   ]
  },
  {
   "cell_type": "code",
   "execution_count": 8,
   "metadata": {},
   "outputs": [],
   "source": [
    "import pandas as pd\n",
    "import matplotlib.pyplot as plt"
   ]
  },
  {
   "attachments": {},
   "cell_type": "markdown",
   "metadata": {},
   "source": [
    "### Showcase the information as Bollinger Bands within a chart"
   ]
  },
  {
   "cell_type": "code",
   "execution_count": 9,
   "metadata": {},
   "outputs": [
    {
     "data": {
      "image/png": "[encoded data removed]",
      "text/plain": [
       "<Figure size 864x432 with 1 Axes>"
      ]
     },
     "metadata": {
      "needs_background": "light"
     },
     "output_type": "display_data"
    }
   ],
   "source": [
    "df = pd.read_csv('AAPL.csv')\n",
    "df['Date'] = pd.to_datetime(df['Date'])\n",
    "df.set_index('Date', inplace=True)\n",
    "\n",
    "# Calculate the 20-day SMA and standard deviation\n",
    "df['SMA'] = df['Close'].rolling(window=20).mean()\n",
    "df['STD'] = df['Close'].rolling(window=20).std()\n",
    "\n",
    "# Calculate the upper and lower Bollinger Bands\n",
    "df['UpperBand'] = df['SMA'] + (df['STD'] * 2)\n",
    "df['LowerBand'] = df['SMA'] - (df['STD'] * 2)\n",
    "\n",
    "# Plot the Bollinger Bands\n",
    "plt.figure(figsize=(12,6))\n",
    "plt.plot(df['Close'], label='Closing Price')\n",
    "plt.plot(df['SMA'], label='SMA')\n",
    "plt.plot(df['UpperBand'], label='Upper Band')\n",
    "plt.plot(df['LowerBand'], label='Lower Band')\n",
    "plt.legend()\n",
    "plt.show()"
   ]
  },
  {
   "cell_type": "code",
   "execution_count": 10,
   "metadata": {},
   "outputs": [
    {
     "data": {
      "text/html": [
       "<div>\n",
       "<style scoped>\n",
       "    .dataframe tbody tr th:only-of-type {\n",
       "        vertical-align: middle;\n",
       "    }\n",
       "\n",
       "    .dataframe tbody tr th {\n",
       "        vertical-align: top;\n",
       "    }\n",
       "\n",
       "    .dataframe thead th {\n",
       "        text-align: right;\n",
       "    }\n",
       "</style>\n",
       "<table border=\"1\" class=\"dataframe\">\n",
       "  <thead>\n",
       "    <tr style=\"text-align: right;\">\n",
       "      <th></th>\n",
       "      <th>BB_upperband</th>\n",
       "      <th>BB_lowerband</th>\n",
       "      <th>Max_Min_diff</th>\n",
       "      <th>Open_Close_diff</th>\n",
       "    </tr>\n",
       "    <tr>\n",
       "      <th>Date</th>\n",
       "      <th></th>\n",
       "      <th></th>\n",
       "      <th></th>\n",
       "      <th></th>\n",
       "    </tr>\n",
       "  </thead>\n",
       "  <tbody>\n",
       "    <tr>\n",
       "      <th>1981-01-12</th>\n",
       "      <td>0.167874</td>\n",
       "      <td>0.109302</td>\n",
       "      <td>0.001116</td>\n",
       "      <td>0.001116</td>\n",
       "    </tr>\n",
       "    <tr>\n",
       "      <th>1981-01-13</th>\n",
       "      <td>0.167896</td>\n",
       "      <td>0.110062</td>\n",
       "      <td>0.000558</td>\n",
       "      <td>0.000558</td>\n",
       "    </tr>\n",
       "    <tr>\n",
       "      <th>1981-01-14</th>\n",
       "      <td>0.167511</td>\n",
       "      <td>0.111953</td>\n",
       "      <td>0.000558</td>\n",
       "      <td>0.000000</td>\n",
       "    </tr>\n",
       "    <tr>\n",
       "      <th>1981-01-15</th>\n",
       "      <td>0.165781</td>\n",
       "      <td>0.116362</td>\n",
       "      <td>0.001116</td>\n",
       "      <td>0.000000</td>\n",
       "    </tr>\n",
       "    <tr>\n",
       "      <th>1981-01-16</th>\n",
       "      <td>0.163873</td>\n",
       "      <td>0.120558</td>\n",
       "      <td>0.000558</td>\n",
       "      <td>0.000558</td>\n",
       "    </tr>\n",
       "  </tbody>\n",
       "</table>\n",
       "</div>"
      ],
      "text/plain": [
       "            BB_upperband  BB_lowerband  Max_Min_diff  Open_Close_diff\n",
       "Date                                                                 \n",
       "1981-01-12      0.167874      0.109302      0.001116         0.001116\n",
       "1981-01-13      0.167896      0.110062      0.000558         0.000558\n",
       "1981-01-14      0.167511      0.111953      0.000558         0.000000\n",
       "1981-01-15      0.165781      0.116362      0.001116         0.000000\n",
       "1981-01-16      0.163873      0.120558      0.000558         0.000558"
      ]
     },
     "execution_count": 10,
     "metadata": {},
     "output_type": "execute_result"
    }
   ],
   "source": [
    "df2 = pd.DataFrame()\n",
    "df2 = df.iloc[19:].copy()\n",
    "df2['Max_Min_diff'] = df2['High']-df2['Low']\n",
    "df2['Open_Close_diff'] = df2['Open']-df2['Close']\n",
    "df2 = df2[['UpperBand', 'LowerBand', 'Max_Min_diff','Open_Close_diff']].copy()\n",
    "df2 = df2.rename(columns={'UpperBand': 'BB_upperband'})\n",
    "df2 = df2.rename(columns={'LowerBand': 'BB_lowerband'})\n",
    "df2.head()"
   ]
  },
  {
   "cell_type": "code",
   "execution_count": 11,
   "metadata": {},
   "outputs": [],
   "source": [
    "%store -r HnS_df"
   ]
  },
  {
   "cell_type": "code",
   "execution_count": 12,
   "metadata": {},
   "outputs": [],
   "source": [
    "HnS_new_df = HnS_df.loc[:, ['left_shoulder', 'right_shoulder', 'left_shoulder_diff', 'right_shoulder_diff', 'head_shoulders']]"
   ]
  },
  {
   "cell_type": "code",
   "execution_count": 13,
   "metadata": {},
   "outputs": [
    {
     "data": {
      "text/html": [
       "<div>\n",
       "<style scoped>\n",
       "    .dataframe tbody tr th:only-of-type {\n",
       "        vertical-align: middle;\n",
       "    }\n",
       "\n",
       "    .dataframe tbody tr th {\n",
       "        vertical-align: top;\n",
       "    }\n",
       "\n",
       "    .dataframe thead th {\n",
       "        text-align: right;\n",
       "    }\n",
       "</style>\n",
       "<table border=\"1\" class=\"dataframe\">\n",
       "  <thead>\n",
       "    <tr style=\"text-align: right;\">\n",
       "      <th></th>\n",
       "      <th>left_shoulder</th>\n",
       "      <th>right_shoulder</th>\n",
       "      <th>left_shoulder_diff</th>\n",
       "      <th>right_shoulder_diff</th>\n",
       "      <th>head_shoulders</th>\n",
       "    </tr>\n",
       "  </thead>\n",
       "  <tbody>\n",
       "    <tr>\n",
       "      <th>50</th>\n",
       "      <td>0.138951</td>\n",
       "      <td>0.120536</td>\n",
       "      <td>-0.131818</td>\n",
       "      <td>0.018181</td>\n",
       "      <td>1</td>\n",
       "    </tr>\n",
       "    <tr>\n",
       "      <th>51</th>\n",
       "      <td>0.133929</td>\n",
       "      <td>0.120536</td>\n",
       "      <td>-0.090911</td>\n",
       "      <td>0.018181</td>\n",
       "      <td>1</td>\n",
       "    </tr>\n",
       "    <tr>\n",
       "      <th>52</th>\n",
       "      <td>0.128906</td>\n",
       "      <td>0.120536</td>\n",
       "      <td>-0.049997</td>\n",
       "      <td>0.018181</td>\n",
       "      <td>1</td>\n",
       "    </tr>\n",
       "    <tr>\n",
       "      <th>53</th>\n",
       "      <td>0.128906</td>\n",
       "      <td>0.120536</td>\n",
       "      <td>-0.049997</td>\n",
       "      <td>0.018181</td>\n",
       "      <td>1</td>\n",
       "    </tr>\n",
       "    <tr>\n",
       "      <th>54</th>\n",
       "      <td>0.128906</td>\n",
       "      <td>0.120536</td>\n",
       "      <td>-0.049997</td>\n",
       "      <td>0.018181</td>\n",
       "      <td>1</td>\n",
       "    </tr>\n",
       "  </tbody>\n",
       "</table>\n",
       "</div>"
      ],
      "text/plain": [
       "    left_shoulder  right_shoulder  left_shoulder_diff  right_shoulder_diff   \n",
       "50       0.138951        0.120536           -0.131818             0.018181  \\\n",
       "51       0.133929        0.120536           -0.090911             0.018181   \n",
       "52       0.128906        0.120536           -0.049997             0.018181   \n",
       "53       0.128906        0.120536           -0.049997             0.018181   \n",
       "54       0.128906        0.120536           -0.049997             0.018181   \n",
       "\n",
       "    head_shoulders  \n",
       "50               1  \n",
       "51               1  \n",
       "52               1  \n",
       "53               1  \n",
       "54               1  "
      ]
     },
     "execution_count": 13,
     "metadata": {},
     "output_type": "execute_result"
    }
   ],
   "source": [
    "HnS_new_df.iloc[50:].head()"
   ]
  },
  {
   "cell_type": "code",
   "execution_count": 15,
   "metadata": {},
   "outputs": [],
   "source": [
    "combined_df = pd.concat([df2, HnS_new_df], axis=0)"
   ]
  },
  {
   "cell_type": "code",
   "execution_count": 20,
   "metadata": {},
   "outputs": [
    {
     "data": {
      "text/html": [
       "<div>\n",
       "<style scoped>\n",
       "    .dataframe tbody tr th:only-of-type {\n",
       "        vertical-align: middle;\n",
       "    }\n",
       "\n",
       "    .dataframe tbody tr th {\n",
       "        vertical-align: top;\n",
       "    }\n",
       "\n",
       "    .dataframe thead th {\n",
       "        text-align: right;\n",
       "    }\n",
       "</style>\n",
       "<table border=\"1\" class=\"dataframe\">\n",
       "  <thead>\n",
       "    <tr style=\"text-align: right;\">\n",
       "      <th></th>\n",
       "      <th>BB_upperband</th>\n",
       "      <th>BB_lowerband</th>\n",
       "      <th>Max_Min_diff</th>\n",
       "      <th>Open_Close_diff</th>\n",
       "      <th>left_shoulder</th>\n",
       "      <th>right_shoulder</th>\n",
       "      <th>left_shoulder_diff</th>\n",
       "      <th>right_shoulder_diff</th>\n",
       "      <th>head_shoulders</th>\n",
       "    </tr>\n",
       "  </thead>\n",
       "  <tbody>\n",
       "    <tr>\n",
       "      <th>1981-06-04 00:00:00</th>\n",
       "      <td>0.154373</td>\n",
       "      <td>0.111699</td>\n",
       "      <td>0.000558</td>\n",
       "      <td>0.000000</td>\n",
       "      <td>NaN</td>\n",
       "      <td>NaN</td>\n",
       "      <td>NaN</td>\n",
       "      <td>NaN</td>\n",
       "      <td>NaN</td>\n",
       "    </tr>\n",
       "    <tr>\n",
       "      <th>1981-06-05 00:00:00</th>\n",
       "      <td>0.155078</td>\n",
       "      <td>0.112724</td>\n",
       "      <td>0.000558</td>\n",
       "      <td>0.000558</td>\n",
       "      <td>NaN</td>\n",
       "      <td>NaN</td>\n",
       "      <td>NaN</td>\n",
       "      <td>NaN</td>\n",
       "      <td>NaN</td>\n",
       "    </tr>\n",
       "    <tr>\n",
       "      <th>1981-06-08 00:00:00</th>\n",
       "      <td>0.155233</td>\n",
       "      <td>0.113685</td>\n",
       "      <td>0.000558</td>\n",
       "      <td>0.000558</td>\n",
       "      <td>NaN</td>\n",
       "      <td>NaN</td>\n",
       "      <td>NaN</td>\n",
       "      <td>NaN</td>\n",
       "      <td>NaN</td>\n",
       "    </tr>\n",
       "    <tr>\n",
       "      <th>1981-06-09 00:00:00</th>\n",
       "      <td>0.155327</td>\n",
       "      <td>0.115264</td>\n",
       "      <td>0.000558</td>\n",
       "      <td>0.000000</td>\n",
       "      <td>NaN</td>\n",
       "      <td>NaN</td>\n",
       "      <td>NaN</td>\n",
       "      <td>NaN</td>\n",
       "      <td>NaN</td>\n",
       "    </tr>\n",
       "    <tr>\n",
       "      <th>1981-06-10 00:00:00</th>\n",
       "      <td>0.155390</td>\n",
       "      <td>0.117043</td>\n",
       "      <td>0.001674</td>\n",
       "      <td>0.000000</td>\n",
       "      <td>NaN</td>\n",
       "      <td>NaN</td>\n",
       "      <td>NaN</td>\n",
       "      <td>NaN</td>\n",
       "      <td>NaN</td>\n",
       "    </tr>\n",
       "  </tbody>\n",
       "</table>\n",
       "</div>"
      ],
      "text/plain": [
       "                     BB_upperband  BB_lowerband  Max_Min_diff   \n",
       "1981-06-04 00:00:00      0.154373      0.111699      0.000558  \\\n",
       "1981-06-05 00:00:00      0.155078      0.112724      0.000558   \n",
       "1981-06-08 00:00:00      0.155233      0.113685      0.000558   \n",
       "1981-06-09 00:00:00      0.155327      0.115264      0.000558   \n",
       "1981-06-10 00:00:00      0.155390      0.117043      0.001674   \n",
       "\n",
       "                     Open_Close_diff  left_shoulder  right_shoulder   \n",
       "1981-06-04 00:00:00         0.000000            NaN             NaN  \\\n",
       "1981-06-05 00:00:00         0.000558            NaN             NaN   \n",
       "1981-06-08 00:00:00         0.000558            NaN             NaN   \n",
       "1981-06-09 00:00:00         0.000000            NaN             NaN   \n",
       "1981-06-10 00:00:00         0.000000            NaN             NaN   \n",
       "\n",
       "                     left_shoulder_diff  right_shoulder_diff  head_shoulders  \n",
       "1981-06-04 00:00:00                 NaN                  NaN             NaN  \n",
       "1981-06-05 00:00:00                 NaN                  NaN             NaN  \n",
       "1981-06-08 00:00:00                 NaN                  NaN             NaN  \n",
       "1981-06-09 00:00:00                 NaN                  NaN             NaN  \n",
       "1981-06-10 00:00:00                 NaN                  NaN             NaN  "
      ]
     },
     "execution_count": 20,
     "metadata": {},
     "output_type": "execute_result"
    }
   ],
   "source": [
    "combined_df.iloc[100:].head()"
   ]
  },
  {
   "cell_type": "code",
   "execution_count": null,
   "metadata": {},
   "outputs": [],
   "source": []
  }
 ],
 "metadata": {
  "kernelspec": {
   "display_name": "Python 3.10.1 64-bit",
   "language": "python",
   "name": "python3"
  },
  "language_info": {
   "codemirror_mode": {
    "name": "ipython",
    "version": 3
   },
   "file_extension": ".py",
   "mimetype": "text/x-python",
   "name": "python",
   "nbconvert_exporter": "python",
   "pygments_lexer": "ipython3",
   "version": "3.8.8"
  },
  "orig_nbformat": 4,
  "vscode": {
   "interpreter": {
    "hash": "aee8b7b246df8f9039afb4144a1f6fd8d2ca17a180786b69acc140d282b71a49"
   }
  }
 },
 "nbformat": 4,
 "nbformat_minor": 2
}
