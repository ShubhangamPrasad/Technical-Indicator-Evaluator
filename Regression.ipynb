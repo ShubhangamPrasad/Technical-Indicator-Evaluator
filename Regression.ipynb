{
 "cells": [
  {
   "cell_type": "markdown",
   "metadata": {},
   "source": [
    "# Finding out when to buy and sell stocks using Logistics Regression"
   ]
  },
  {
   "cell_type": "markdown",
   "metadata": {},
   "source": [
    "We used logistic regression to determine when one should sell or buy stock based on each indicator. Furthermore, the accuracy of the predicted stock market prices using the indicator is compared against the orginal response, Closing price (\"Close\" column in dataframe)"
   ]
  },
  {
   "cell_type": "code",
   "execution_count": null,
   "metadata": {},
   "outputs": [],
   "source": [
    "import pandas as pd\n",
    "import numpy as np"
   ]
  },
  {
   "cell_type": "code",
   "execution_count": null,
   "metadata": {},
   "outputs": [],
   "source": [
    "df = pd.read_csv('AAPL_clean.csv')\n",
    "df = df.set_index(\"Date\")\n",
    "df.head()"
   ]
  },
  {
   "cell_type": "markdown",
   "metadata": {},
   "source": [
    "### Keltner Channels"
   ]
  },
  {
   "cell_type": "code",
   "execution_count": null,
   "metadata": {},
   "outputs": [],
   "source": [
    "# KELTNER CHANNEL CALCULATION\n",
    "\n",
    "def get_kc(high, low, close, kc_lookback, multiplier, atr_lookback):\n",
    "    tr1 = pd.DataFrame(high - low)\n",
    "    tr2 = pd.DataFrame(abs(high - close.shift()))\n",
    "    tr3 = pd.DataFrame(abs(low - close.shift()))\n",
    "    frames = [tr1, tr2, tr3]\n",
    "    tr = pd.concat(frames, axis = 1, join = 'inner').max(axis = 1)\n",
    "    atr = tr.ewm(alpha = 1/atr_lookback).mean()\n",
    "    \n",
    "    kc_middle = close.ewm(kc_lookback).mean()\n",
    "    kc_upper = close.ewm(kc_lookback).mean() + multiplier * atr\n",
    "    kc_lower = close.ewm(kc_lookback).mean() - multiplier * atr\n",
    "    \n",
    "    return kc_middle, kc_upper, kc_lower\n",
    "kc = df\n",
    "kc['kc_middle'], kc['kc_upper'], kc['kc_lower'] = get_kc(kc['High'], kc['Low'], kc['Close'], 20, 2, 10)\n",
    "kc.tail(20)"
   ]
  },
  {
   "cell_type": "code",
   "execution_count": null,
   "metadata": {},
   "outputs": [],
   "source": [
    "# KELTNER CHANNEL STRATEGY\n",
    "\n",
    "def implement_kc_strategy(prices, kc_upper, kc_lower):\n",
    "    buy_price = []\n",
    "    sell_price = []\n",
    "    kc_signal = []\n",
    "    signal = 0\n",
    "    \n",
    "    for i in range(len(prices)):\n",
    "        if prices[i] < kc_lower[i] and i+1 < len(prices) and prices[i+1] > prices[i]:\n",
    "            if signal != 1:\n",
    "                buy_price.append(prices[i])\n",
    "                sell_price.append(np.nan)\n",
    "                signal = 1\n",
    "                kc_signal.append(signal)\n",
    "            else:\n",
    "                buy_price.append(np.nan)\n",
    "                sell_price.append(np.nan)\n",
    "                kc_signal.append(0)\n",
    "        elif prices[i] > kc_upper[i] and i+1 < len(prices) and prices[i+1] < prices[i]:\n",
    "            if signal != -1:\n",
    "                buy_price.append(np.nan)\n",
    "                sell_price.append(prices[i])\n",
    "                signal = -1\n",
    "                kc_signal.append(signal)\n",
    "            else:\n",
    "                buy_price.append(np.nan)\n",
    "                sell_price.append(np.nan)\n",
    "                kc_signal.append(0)\n",
    "        else:\n",
    "            buy_price.append(np.nan)\n",
    "            sell_price.append(np.nan)\n",
    "            kc_signal.append(0)\n",
    "            \n",
    "    return buy_price, sell_price, kc_signal\n",
    "\n",
    "buy_price, sell_price, kc_signal = implement_kc_strategy(kc['Close'], kc['kc_upper'], kc['kc_lower'])\n",
    "kc.tail(20)"
   ]
  },
  {
   "cell_type": "markdown",
   "metadata": {},
   "source": [
    "### Head and Shoulders"
   ]
  },
  {
   "cell_type": "code",
   "execution_count": null,
   "metadata": {},
   "outputs": [],
   "source": [
    "df[\"left_shoulder\"] = df[\"High\"].rolling(window=20).max()\n",
    "df[\"right_shoulder\"] = df[\"High\"].rolling(window=20).max().shift(periods=-20)\n",
    "df[\"head\"] = df[\"High\"].rolling(window=20).max().shift(periods=-10)\n",
    "\n",
    "df[\"left_shoulder_diff\"] = (df[\"head\"] - df[\"left_shoulder\"]) / df[\"head\"]\n",
    "df[\"right_shoulder_diff\"] = (df[\"head\"] - df[\"right_shoulder\"]) / df[\"head\"]\n",
    "\n",
    "df[\"head_shoulders\"] = ((df[\"left_shoulder_diff\"] <= 0.05) & (df[\"right_shoulder_diff\"] <= 0.05)).astype(int)\n",
    "df.tail(30)"
   ]
  },
  {
   "cell_type": "markdown",
   "metadata": {},
   "source": [
    "### Bollinger Bands"
   ]
  },
  {
   "cell_type": "code",
   "execution_count": null,
   "metadata": {},
   "outputs": [],
   "source": [
    "# Calculate the 20-day SMA and standard deviation\n",
    "df['SMA'] = df['Close'].rolling(window=20).mean()\n",
    "df['STD'] = df['Close'].rolling(window=20).std()\n",
    "\n",
    "# Calculate the upper and lower Bollinger Bands\n",
    "df['UpperBand'] = df['SMA'] + (df['STD'] * 2)\n",
    "df['LowerBand'] = df['SMA'] - (df['STD'] * 2)\n",
    "df = df.rename(columns={'UpperBand': 'BB_upperband'})\n",
    "df = df.rename(columns={'LowerBand': 'BB_lowerband'})\n",
    "\n",
    "df.tail()\n"
   ]
  },
  {
   "cell_type": "markdown",
   "metadata": {},
   "source": [
    "### Moving Average"
   ]
  },
  {
   "cell_type": "code",
   "execution_count": null,
   "metadata": {},
   "outputs": [],
   "source": [
    "window_size = 50\n",
    "df[\"MA\"] = df[\"Close\"].rolling(window_size).mean()"
   ]
  },
  {
   "cell_type": "code",
   "execution_count": null,
   "metadata": {},
   "outputs": [],
   "source": [
    "df.tail()"
   ]
  },
  {
   "cell_type": "markdown",
   "metadata": {},
   "source": [
    "### RSI"
   ]
  },
  {
   "cell_type": "code",
   "execution_count": null,
   "metadata": {},
   "outputs": [],
   "source": [
    "\n",
    "# Calculate the price change between each day's closing price and the previous day's closing price\n",
    "delta = df[\"Close\"].diff()\n",
    "\n",
    "# Define the time period for the RSI calculation\n",
    "n = 14\n",
    "\n",
    "# Calculate the average gain and loss for the first n days\n",
    "gain = delta[1:n+1][delta[1:n+1] > 0].sum() / n\n",
    "loss = -delta[1:n+1][delta[1:n+1] < 0].sum() / n\n",
    "\n",
    "# Initialize the arrays to store the RSI values and the average gain and loss values\n",
    "rsi = [100 * gain / (gain + loss)]\n",
    "avg_gain = [gain]\n",
    "avg_loss = [loss]\n",
    "\n",
    "# Calculate the RSI values for the remaining days\n",
    "for i in range(1, len(df)):\n",
    "    change = delta[i]\n",
    "    if change > 0:\n",
    "        avg_gain.append((avg_gain[-1] * (n - 1) + change) / n)\n",
    "        avg_loss.append((avg_loss[-1] * (n - 1)) / n)\n",
    "    else:\n",
    "        avg_gain.append((avg_gain[-1] * (n - 1)) / n)\n",
    "        avg_loss.append((avg_loss[-1] * (n - 1) - change) / n)\n",
    "    rs = avg_gain[-1] / avg_loss[-1]\n",
    "    rsi.append(100 - 100 / (1 + rs))\n",
    "\n",
    "# Slice the RSI array to match the length of the DataFrame\n",
    "rsi = rsi[-len(df):]\n",
    "\n",
    "# Add the RSI values to the DataFrame\n",
    "df[\"RSI\"] = rsi\n",
    "# Print the DataFrame with the RSI values\n",
    "df.head()"
   ]
  },
  {
   "cell_type": "markdown",
   "metadata": {},
   "source": [
    "# Logistics Regression"
   ]
  },
  {
   "cell_type": "code",
   "execution_count": null,
   "metadata": {},
   "outputs": [],
   "source": [
    "# findng out where to buy and sell using the original data\n",
    "import pandas as pd\n",
    "import numpy as np\n",
    "from sklearn.linear_model import LogisticRegression\n",
    "from sklearn.model_selection import train_test_split\n",
    "\n",
    "# Convert Keltner channels into binary labels (1: up, 0: down)\n",
    "df[\"label\"] = np.where(df['Close'].shift(-1) > df['Close'], 1, 0)"
   ]
  },
  {
   "cell_type": "code",
   "execution_count": null,
   "metadata": {},
   "outputs": [],
   "source": [
    "# KELTNER CHANNELS\n",
    "\n",
    "import pandas as pd\n",
    "import numpy as np\n",
    "import matplotlib.pyplot as plt\n",
    "from sklearn.linear_model import LogisticRegression\n",
    "from sklearn.model_selection import train_test_split\n",
    "from sklearn.metrics import accuracy_score\n",
    "\n",
    "\n",
    "# Create the binary labels (1: buy, 0: sell)\n",
    "kcsignal = np.where(df['Close'].shift(-1) > df['kc_upper'].shift(-1), 0,\n",
    "                        np.where(df['Close'].shift(-1) < df['kc_lower'].shift(-1), 1, np.nan))\n",
    "\n",
    "df.tail()\n",
    "# Split the data into training and testing sets\n",
    "kc_middle = pd.DataFrame(df['kc_middle'])  \n",
    "label = pd.DataFrame(df['label']) \n",
    "\n",
    "train_index = int(len(df)*0.8)\n",
    "test_index = len(df) - train_index\n",
    "\n",
    "# Train Set \n",
    "X_train = pd.DataFrame(kc_middle[:train_index])\n",
    "y_train = pd.DataFrame(label[:train_index])\n",
    "\n",
    "# Test Set : 200 samples\n",
    "X_test = pd.DataFrame(kc_middle[train_index:])\n",
    "y_test = pd.DataFrame(label[train_index:])\n",
    "# Fit logistic regression model\n",
    "model = LogisticRegression()\n",
    "model.fit(X_train.values.reshape(-1, 1), y_train)\n",
    "\n",
    "# Predict labels for testing set\n",
    "y_pred = model.predict(X_test.values.reshape(-1, 1))\n",
    "\n",
    "# Evaluate model performance\n",
    "accuracy = accuracy_score(y_test, y_pred)\n",
    "print(\"Accuracy:\", accuracy)\n",
    "\n",
    "# Create a plot of the Keltner Channels indicator and the buy/sell signals\n",
    "plt.figure(figsize=(18, 6))\n",
    "plt.plot(df['Close'], label='Price')\n",
    "plt.scatter(df[kcsignal == 1].index, df[kcsignal == 1]['Close'], marker='^', color='blue', label='Buy')\n",
    "plt.scatter(df[kcsignal == 0].index, df[kcsignal == 0]['Close'], marker='v', color='red', label='Sell')\n",
    "plt.legend()\n",
    "plt.show()"
   ]
  },
  {
   "cell_type": "code",
   "execution_count": null,
   "metadata": {},
   "outputs": [],
   "source": [
    "# BOLLINGER BANDS\n",
    "\n",
    "# Create the binary labels (1: buy, 0: sell)\n",
    "bbsignal = np.where(df['Close'].shift(-1) > df['BB_upperband'].shift(-1), 0,\n",
    "                        np.where(df['Close'].shift(-1) < df['BB_lowerband'].shift(-1), 1, np.nan))                       \n",
    "features = ['BB_upperband', 'BB_lowerband', 'SMA']\n",
    "df = df.dropna()\n",
    "bbsignal = bbsignal[:len(df['Close'])] \n",
    "# Split the data into training and testing sets\n",
    "\n",
    "# Split the data into training and testing sets\n",
    "BB = pd.DataFrame(df[features])  \n",
    "label = pd.DataFrame(df['label']) \n",
    "\n",
    "train_index = int(len(df)*0.8)\n",
    "test_index = len(df) - train_index\n",
    "\n",
    "# Train Set \n",
    "X_train = pd.DataFrame(BB[:train_index])\n",
    "y_train = pd.DataFrame(label[:train_index])\n",
    "\n",
    "# Test Set : 200 samples\n",
    "X_test = pd.DataFrame(BB[train_index:])\n",
    "y_test = pd.DataFrame(label[train_index:])\n",
    "\n",
    "# Fit logistic regression model\n",
    "model = LogisticRegression()\n",
    "model.fit(X_train.values.reshape(-1, len(features)), y_train)\n",
    "\n",
    "# Predict labels for testing set\n",
    "y_pred = model.predict(X_test.values.reshape(-1, len(features)))\n",
    "\n",
    "# Evaluate model performance\n",
    "accuracy = accuracy_score(y_test, y_pred)\n",
    "print(\"Accuracy:\", accuracy)\n",
    "\n",
    "# Create a plot of the Bollinger Bands indicator and the buy/sell signals\n",
    "plt.figure(figsize=(18, 6))\n",
    "plt.plot(df['Close'], label='Price')\n",
    "plt.scatter(df[bbsignal == 1].index, df[bbsignal == 1]['Close'], marker='^', color='blue', label='Buy')\n",
    "plt.scatter(df[bbsignal == 0].index, df[bbsignal == 0]['Close'], marker='v', color='red', label='Sell')\n",
    "plt.legend()\n",
    "plt.show()\n",
    "\n"
   ]
  },
  {
   "cell_type": "code",
   "execution_count": null,
   "metadata": {},
   "outputs": [],
   "source": [
    "# MOVING AVERAGE\n",
    "\n",
    "# Create the binary labels (1: buy, 0: sell)\n",
    "masignal = np.where(df['MA'].shift(-1) > df['Close'], 1, 0)\n",
    "df = df.dropna()\n",
    "masignal = masignal[:len(df['Close'])]\n",
    "# Split the data into training and testing sets\n",
    "\n",
    "MA = pd.DataFrame(df['MA'])  \n",
    "label = pd.DataFrame(df['label']) \n",
    "\n",
    "train_index = int(len(df)*0.8)\n",
    "test_index = len(df) - train_index\n",
    "\n",
    "# Train Set \n",
    "X_train = pd.DataFrame(MA[:train_index])\n",
    "y_train = pd.DataFrame(label[:train_index])\n",
    "\n",
    "# Test Set : 200 samples\n",
    "X_test = pd.DataFrame(MA[train_index:])\n",
    "y_test = pd.DataFrame(label[train_index:])\n",
    "\n",
    "# Fit logistic regression model\n",
    "model = LogisticRegression()\n",
    "model.fit(X_train.values.reshape(-1, 1), y_train)\n",
    "\n",
    "# Predict labels for testing set\n",
    "y_pred = model.predict(X_test.values.reshape(-1, 1))\n",
    "\n",
    "# Evaluate model performance\n",
    "accuracy = accuracy_score(y_test, y_pred)\n",
    "print(\"Accuracy:\", accuracy)\n",
    "\n",
    "# Create a plot of the Moving Average indicator and the buy/sell signals\n",
    "plt.figure(figsize=(18, 6))\n",
    "plt.plot(df['Close'], label='Price')\n",
    "plt.scatter(df[masignal == 1].index, df[masignal == 1]['Close'], marker='^', color='blue', label='Buy')\n",
    "plt.scatter(df[masignal == 0].index, df[masignal == 0]['Close'], marker='v', color='red', label='Sell')\n",
    "plt.legend()\n",
    "plt.show()"
   ]
  },
  {
   "cell_type": "code",
   "execution_count": null,
   "metadata": {},
   "outputs": [],
   "source": [
    "# Heads and Shoulders\n",
    "# Calculate the neckline (a line connecting the lows of the two shoulders)\n",
    "df[\"Neckline\"] = (df[\"left_shoulder\"] + df[\"right_shoulder\"]) / 2\n",
    "\n",
    "# Above neckline you sell, (0), below neckline you buy (1)\n",
    "hssignal = np.where(df['Close'].shift(-1) > df['Close'], 1, 0)\n",
    "features = [\"left_shoulder\", \"right_shoulder\"]\n",
    "df = df.dropna()\n",
    "hssignal = hssignal[:len(df['Close'])]\n",
    "# Split the data into training and testing sets\n",
    "HnS = pd.DataFrame(df[features])  \n",
    "label = pd.DataFrame(df['label']) \n",
    "\n",
    "train_index = int(len(df)*0.8)\n",
    "test_index = len(df) - train_index\n",
    "\n",
    "# Train Set \n",
    "X_train = pd.DataFrame(HnS[:train_index])\n",
    "y_train = pd.DataFrame(label[:train_index])\n",
    "\n",
    "# Test Set : 200 samples\n",
    "X_test = pd.DataFrame(HnS[train_index:])\n",
    "y_test = pd.DataFrame(label[train_index:])\n",
    "\n",
    "# Fit logistic regression model\n",
    "model = LogisticRegression()\n",
    "model.fit(X_train, y_train)\n",
    "\n",
    "# Predict labels for testing set\n",
    "y_pred = model.predict(X_test)\n",
    "\n",
    "# Evaluate model performance\n",
    "accuracy = accuracy_score(y_test, y_pred)\n",
    "print(\"Accuracy:\", accuracy)\n",
    "\n",
    "# Create a plot of the Moving Average indicator and the buy/sell signals\n",
    "plt.figure(figsize=(18, 6))\n",
    "plt.plot(df['Close'], label='Price')\n",
    "plt.scatter(df[hssignal == 1].index, df[hssignal == 1]['Close'], marker='^', color='blue', label='Buy')\n",
    "plt.scatter(df[hssignal == 0].index, df[hssignal == 0]['Close'], marker='v', color='red', label='Sell')\n",
    "plt.legend()\n",
    "plt.show()\n"
   ]
  },
  {
   "cell_type": "code",
   "execution_count": null,
   "metadata": {},
   "outputs": [],
   "source": [
    "# RSI\n",
    "# Create the binary labels (1: buy, 0: sell)\n",
    "rsisignal = np.where(df[\"RSI\"].shift(-1) > 70, 0, np.where(df[\"RSI\"].shift(-1) < 30, 1, -1))\n",
    "\n",
    "# Split the data into training and testing sets\n",
    "rsi = pd.DataFrame(df['RSI'])  \n",
    "label = pd.DataFrame(df['label']) \n",
    "\n",
    "train_index = int(len(df)*0.8)\n",
    "test_index = len(df) - train_index\n",
    "\n",
    "# Train Set \n",
    "X_train = pd.DataFrame(rsi[:train_index])\n",
    "y_train = pd.DataFrame(label[:train_index])\n",
    "\n",
    "# Test Set : 200 samples\n",
    "X_test = pd.DataFrame(rsi[train_index:])\n",
    "y_test = pd.DataFrame(label[train_index:])\n",
    "\n",
    "rsisignal = rsisignal[:len(df['Close'])]\n",
    "\n",
    "# Fit logistic regression model\n",
    "model = LogisticRegression()\n",
    "model.fit(X_train.values.reshape(-1, 1), y_train)\n",
    "\n",
    "# Predict labels for testing set\n",
    "y_pred = model.predict(X_test.values.reshape(-1, 1))\n",
    "\n",
    "# Evaluate model performance\n",
    "accuracy = accuracy_score(y_test, y_pred)\n",
    "print(\"Accuracy:\", accuracy)\n",
    "\n",
    "# Create a plot of the Moving Average indicator and the buy/sell signals\n",
    "plt.figure(figsize=(18, 6))\n",
    "plt.plot(df['Close'], label='Price')\n",
    "plt.scatter(df[rsisignal == 1].index, df[rsisignal == 1]['Close'], marker='^', color='blue', label='Buy')\n",
    "plt.scatter(df[rsisignal == 0].index, df[rsisignal == 0]['Close'], marker='v', color='red', label='Sell')\n",
    "plt.legend()\n",
    "plt.show()"
   ]
  },
  {
   "cell_type": "code",
   "execution_count": null,
   "metadata": {},
   "outputs": [],
   "source": []
  },
  {
   "cell_type": "code",
   "execution_count": null,
   "metadata": {},
   "outputs": [],
   "source": []
  }
 ],
 "metadata": {
  "kernelspec": {
   "display_name": "Python 3.10.1 64-bit",
   "language": "python",
   "name": "python3"
  },
  "language_info": {
   "codemirror_mode": {
    "name": "ipython",
    "version": 3
   },
   "file_extension": ".py",
   "mimetype": "text/x-python",
   "name": "python",
   "nbconvert_exporter": "python",
   "pygments_lexer": "ipython3",
   "version": "3.8.8"
  },
  "orig_nbformat": 4,
  "vscode": {
   "interpreter": {
    "hash": "aee8b7b246df8f9039afb4144a1f6fd8d2ca17a180786b69acc140d282b71a49"
   }
  }
 },
 "nbformat": 4,
 "nbformat_minor": 2
}
