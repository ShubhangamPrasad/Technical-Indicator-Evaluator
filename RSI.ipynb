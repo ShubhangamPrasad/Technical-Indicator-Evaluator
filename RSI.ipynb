{
 "cells": [
  {
   "attachments": {},
   "cell_type": "markdown",
   "metadata": {},
   "source": [
    "# Calculating RSI values on a 20-day basis"
   ]
  },
  {
   "cell_type": "code",
   "execution_count": null,
   "metadata": {},
   "outputs": [],
   "source": [
    "import pandas as pd\n",
    "\n",
    "# Load the stock data from a CSV file\n",
    "df = pd.read_csv(\"AAPL_Clean.csv\")\n",
    "\n",
    "# Calculate the price change between each day's closing price and the previous day's closing price\n",
    "delta = df[\"Close\"].diff()\n",
    "\n",
    "# Define the time period for the RSI calculation\n",
    "n = 14\n",
    "\n",
    "# Calculate the average gain and loss for the first n days\n",
    "gain = delta[1:n+1][delta[1:n+1] > 0].sum() / n\n",
    "loss = -delta[1:n+1][delta[1:n+1] < 0].sum() / n\n",
    "\n",
    "# Initialize the arrays to store the RSI values and the average gain and loss values\n",
    "rsi = [100 * gain / (gain + loss)]\n",
    "avg_gain = [gain]\n",
    "avg_loss = [loss]\n",
    "\n",
    "# Calculate the RSI values for the remaining days\n",
    "for i in range(n+1, len(df)):\n",
    "    change = delta[i]\n",
    "    if change > 0:\n",
    "        avg_gain.append((avg_gain[-1] * (n - 1) + change) / n)\n",
    "        avg_loss.append((avg_loss[-1] * (n - 1)) / n)\n",
    "    else:\n",
    "        avg_gain.append((avg_gain[-1] * (n - 1)) / n)\n",
    "        avg_loss.append((avg_loss[-1] * (n - 1) - change) / n)\n",
    "    rs = avg_gain[-1] / avg_loss[-1]\n",
    "    rsi.append(100 - 100 / (1 + rs))\n",
    "\n",
    "# Slice the RSI array to match the length of the DataFrame\n",
    "rsi = rsi[-len(df):]\n",
    "df = df.drop(range(14))\n",
    "\n",
    "# Add the RSI values to the DataFrame\n",
    "df[\"RSI\"] = rsi\n",
    "\n",
    "# Print the DataFrame with the RSI values\n",
    "df.tail()\n"
   ]
  },
  {
   "cell_type": "code",
   "execution_count": null,
   "metadata": {},
   "outputs": [],
   "source": []
  }
 ],
 "metadata": {
  "kernelspec": {
   "display_name": "Python 3.10.1 64-bit",
   "language": "python",
   "name": "python3"
  },
  "language_info": {
   "codemirror_mode": {
    "name": "ipython",
    "version": 3
   },
   "file_extension": ".py",
   "mimetype": "text/x-python",
   "name": "python",
   "nbconvert_exporter": "python",
   "pygments_lexer": "ipython3",
   "version": "3.8.8"
  },
  "orig_nbformat": 4,
  "vscode": {
   "interpreter": {
    "hash": "aee8b7b246df8f9039afb4144a1f6fd8d2ca17a180786b69acc140d282b71a49"
   }
  }
 },
 "nbformat": 4,
 "nbformat_minor": 2
}
